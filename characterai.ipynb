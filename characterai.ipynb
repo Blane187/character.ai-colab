{
  "cells": [
    {
      "cell_type": "markdown",
      "metadata": {
        "id": "view-in-github",
        "colab_type": "text"
      },
      "source": [
        "<a href=\"https://colab.research.google.com/github/Blane187/character.ai-colab/blob/main/characterai.ipynb\" target=\"_parent\"><img src=\"https://colab.research.google.com/assets/colab-badge.svg\" alt=\"Open In Colab\"/></a>"
      ]
    },
    {
      "cell_type": "markdown",
      "source": [
        "# Character.Ai colab version\n",
        "\n",
        "\n",
        "\n",
        "* get character id on https://old.character.ai"
      ],
      "metadata": {
        "id": "5PHsnKkysiLj"
      }
    },
    {
      "cell_type": "code",
      "execution_count": null,
      "metadata": {
        "id": "dh8BHI2MZdpp",
        "cellView": "form"
      },
      "outputs": [],
      "source": [
        "#@title install\n",
        "\n",
        "!pip install characterai\n",
        "\n",
        "!pip install nest_asyncio"
      ]
    },
    {
      "cell_type": "code",
      "execution_count": null,
      "metadata": {
        "id": "1yly1o8yZh9c",
        "cellView": "form"
      },
      "outputs": [],
      "source": [
        "#@title login n stuff\n",
        "## Login with email\n",
        "\n",
        "\n",
        "# Import required libraries\n",
        "import nest_asyncio\n",
        "import asyncio\n",
        "from characterai import aiocai, sendCode, authUser\n",
        "\n",
        "# Apply the nest_asyncio patch\n",
        "nest_asyncio.apply()\n",
        "\n",
        "# Define the asynchronous main function\n",
        "async def main():\n",
        "    email = input('YOUR EMAIL: ')\n",
        "\n",
        "    code = sendCode(email)\n",
        "\n",
        "    link = input('CODE IN MAIL: ')\n",
        "\n",
        "    token = authUser(link, email)\n",
        "\n",
        "    print(f'YOUR TOKEN: {token}')\n",
        "\n",
        "# Run the main function\n",
        "await main()"
      ]
    },
    {
      "cell_type": "code",
      "execution_count": null,
      "metadata": {
        "id": "BebfCxrpb1bh",
        "cellView": "form"
      },
      "outputs": [],
      "source": [
        "#@title here you go\n",
        "\n",
        "from characterai import aiocai\n",
        "import asyncio\n",
        "\n",
        "async def main():\n",
        "    char = input('CHAR ID: ')\n",
        "\n",
        "    token = input('Token: ')\n",
        "    client = aiocai.Client(token)\n",
        "\n",
        "    me = await client.get_me()\n",
        "\n",
        "    async with await client.connect() as chat:\n",
        "        new, answer = await chat.new_chat(\n",
        "            char, me.id\n",
        "        )\n",
        "\n",
        "        print(f'{answer.name}: {answer.text}')\n",
        "\n",
        "        while True:\n",
        "            text = input('YOU: ')\n",
        "\n",
        "            message = await chat.send_message(\n",
        "                char, new.chat_id, text\n",
        "            )\n",
        "\n",
        "            print(f'{message.name}: {message.text}')\n",
        "\n",
        "asyncio.run(main())"
      ]
    }
  ],
  "metadata": {
    "colab": {
      "provenance": [],
      "authorship_tag": "ABX9TyM4yM25cCmEgzTFla2Oovzy",
      "include_colab_link": true
    },
    "kernelspec": {
      "display_name": "Python 3",
      "name": "python3"
    },
    "language_info": {
      "name": "python"
    }
  },
  "nbformat": 4,
  "nbformat_minor": 0
}